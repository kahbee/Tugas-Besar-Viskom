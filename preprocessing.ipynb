{
 "cells": [
  {
   "cell_type": "code",
   "execution_count": 11,
   "metadata": {},
   "outputs": [],
   "source": [
    "import os\n",
    "import cv2\n",
    "import shutil\n",
    "import numpy as np"
   ]
  },
  {
   "cell_type": "code",
   "execution_count": 14,
   "metadata": {},
   "outputs": [],
   "source": [
    "# Paths\n",
    "original_dataset_path = \"./potholes\"\n",
    "noise_reduction_path = \"./noise_reduction_potholes\"\n",
    "\n",
    "# Ensure the enhanced_dataset directory exists\n",
    "if not os.path.exists(noise_reduction_path):\n",
    "    os.makedirs(noise_reduction_path)"
   ]
  },
  {
   "cell_type": "code",
   "execution_count": 15,
   "metadata": {},
   "outputs": [],
   "source": [
    "# Enhance function (noise reduction using Gaussian Blur)\n",
    "def noiseReduction_image(image_path):\n",
    "    image = cv2.imread(image_path, cv2.IMREAD_COLOR)\n",
    "    # Convert to grayscale\n",
    "    gray = cv2.cvtColor(image, cv2.COLOR_BGR2GRAY)\n",
    "    # Apply Gaussian Blur for noise reduction\n",
    "    denoised = cv2.GaussianBlur(gray, (5, 5), 0)\n",
    "    # Return a 3-channel image for compatibility\n",
    "    return cv2.merge([denoised, denoised, denoised])"
   ]
  },
  {
   "cell_type": "code",
   "execution_count": 16,
   "metadata": {},
   "outputs": [
    {
     "name": "stdout",
     "output_type": "stream",
     "text": [
      "Feature enhancement completed and saved in 'noise_reduction_potholes'.\n"
     ]
    }
   ],
   "source": [
    "# Process folders\n",
    "for split in [\"train\", \"val\", \"test\"]:\n",
    "    split_images_path = os.path.join(original_dataset_path, split, \"images\")\n",
    "    split_labels_path = os.path.join(original_dataset_path, split, \"labels\")\n",
    "    enhanced_images_path = os.path.join(noise_reduction_path, split, \"images\")\n",
    "    enhanced_labels_path = os.path.join(noise_reduction_path, split, \"labels\")\n",
    "    \n",
    "    # Create directories\n",
    "    os.makedirs(enhanced_images_path, exist_ok=True)\n",
    "    os.makedirs(enhanced_labels_path, exist_ok=True)\n",
    "    \n",
    "    # Process images\n",
    "    for image_name in os.listdir(split_images_path):\n",
    "        if image_name.endswith((\".jpg\", \".png\", \".jpeg\")):\n",
    "            image_path = os.path.join(split_images_path, image_name)\n",
    "            enhanced_image = noiseReduction_image(image_path)\n",
    "            enhanced_image_path = os.path.join(enhanced_images_path, image_name)\n",
    "            cv2.imwrite(enhanced_image_path, enhanced_image)\n",
    "    \n",
    "    # Copy labels\n",
    "    for label_name in os.listdir(split_labels_path):\n",
    "        if label_name.endswith(\".txt\"):\n",
    "            label_path = os.path.join(split_labels_path, label_name)\n",
    "            enhanced_label_path = os.path.join(enhanced_labels_path, label_name)\n",
    "            shutil.copyfile(label_path, enhanced_label_path)\n",
    "\n",
    "print(\"Feature enhancement completed and saved in 'noise_reduction_potholes'.\")"
   ]
  }
 ],
 "metadata": {
  "kernelspec": {
   "display_name": "venv",
   "language": "python",
   "name": "python3"
  },
  "language_info": {
   "codemirror_mode": {
    "name": "ipython",
    "version": 3
   },
   "file_extension": ".py",
   "mimetype": "text/x-python",
   "name": "python",
   "nbconvert_exporter": "python",
   "pygments_lexer": "ipython3",
   "version": "3.12.0"
  }
 },
 "nbformat": 4,
 "nbformat_minor": 2
}
